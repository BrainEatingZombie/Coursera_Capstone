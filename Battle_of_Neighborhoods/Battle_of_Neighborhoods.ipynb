{
 "cells": [
  {
   "cell_type": "code",
   "execution_count": 3,
   "metadata": {
    "scrolled": true
   },
   "outputs": [
    {
     "name": "stdout",
     "output_type": "stream",
     "text": [
      "Library Import Complete\n"
     ]
    }
   ],
   "source": [
    "\n",
    "import pandas as pd # library for data analsysis\n",
    "pd.set_option(\"display.max_columns\", None)\n",
    "pd.set_option(\"display.max_rows\", None)\n",
    "\n",
    "import json # library to handle JSON files\n",
    "\n",
    "from geopy.geocoders import Nominatim # convert an address into latitude and longitude values\n",
    "import geocoder # to get coordinates\n",
    "\n",
    "import requests # library to handle requests\n",
    "from bs4 import BeautifulSoup # library to parse HTML and XML documents\n",
    "\n",
    "from pandas.io.json import json_normalize # tranform JSON file into a pandas dataframe\n",
    "\n",
    "# Matplotlib and associated plotting modules\n",
    "import matplotlib.cm as cm\n",
    "import matplotlib.colors as colors\n",
    "\n",
    "# import k-means from clustering stage\n",
    "from sklearn.cluster import KMeans\n",
    "\n",
    "import folium # map rendering library\n",
    "print('Library Import Complete')"
   ]
  },
  {
   "cell_type": "code",
   "execution_count": 2,
   "metadata": {},
   "outputs": [
    {
     "name": "stdout",
     "output_type": "stream",
     "text": [
      "Your credentails:\n",
      "CLIENT_ID: FDEU4GOTFYAIZAOVX3FTZKJOIZAZTDZTCP0X4LJE54OVU2O1\n",
      "CLIENT_SECRET:2OXJXJ3N5CQXKFNFWBI44GMH1JV4K222D00ZBDPXITJFEOKK\n",
      "ACCESS_TOKEN:2TN5DBFHOLL12RS34RFIZIYMMM5ZVJVTRHMYSJVPBQN0VOIX\n"
     ]
    }
   ],
   "source": [
    "CLIENT_ID = 'FDEU4GOTFYAIZAOVX3FTZKJOIZAZTDZTCP0X4LJE54OVU2O1' # your Foursquare ID\n",
    "CLIENT_SECRET = '2OXJXJ3N5CQXKFNFWBI44GMH1JV4K222D00ZBDPXITJFEOKK' # your Foursquare Secret\n",
    "VERSION = '20180604'\n",
    "ACCESS_TOKEN = '2TN5DBFHOLL12RS34RFIZIYMMM5ZVJVTRHMYSJVPBQN0VOIX'\n",
    "LIMIT = 100\n",
    "radius = 500\n",
    "print('Your credentails:')\n",
    "print('CLIENT_ID: ' + CLIENT_ID)\n",
    "print('CLIENT_SECRET:' + CLIENT_SECRET)\n",
    "print('ACCESS_TOKEN:' + ACCESS_TOKEN)"
   ]
  },
  {
   "cell_type": "markdown",
   "metadata": {},
   "source": [
    "## Scraping page into Dataframe"
   ]
  },
  {
   "cell_type": "code",
   "execution_count": 8,
   "metadata": {},
   "outputs": [
    {
     "name": "stdout",
     "output_type": "stream",
     "text": [
      "Dimension of the Dataframe: (71, 1)\n"
     ]
    }
   ],
   "source": [
    "# send the GET request\n",
    "data = requests.get(\"https://en.wikipedia.org/wiki/Category:Suburbs_in_Kuala_Lumpur\").text\n",
    "# parse data from the html into a beautifulsoup object\n",
    "soup = BeautifulSoup(data, 'html.parser')\n",
    "# create a list to store neighborhood data\n",
    "neighborhoodList = []\n",
    "# append the data into the list\n",
    "for row in soup.find_all(\"div\", class_=\"mw-category\")[0].findAll(\"li\"):\n",
    "    neighborhoodList.append(row.text)\n",
    "# create a new DataFrame from the list\n",
    "kl_df = pd.DataFrame({\"Neighborhood\": neighborhoodList})\n",
    "\n",
    "kl_df.head()\n",
    "# print the number of rows of the dataframe\n",
    "print(\"Dimension of the Dataframe: {}\".format(kl_df.shape))"
   ]
  },
  {
   "cell_type": "markdown",
   "metadata": {},
   "source": [
    "## Getting geographical coordinates"
   ]
  },
  {
   "cell_type": "code",
   "execution_count": 9,
   "metadata": {},
   "outputs": [
    {
     "data": {
      "text/plain": [
       "[[3.0576900000000364, 101.74388000000005],\n",
       " [3.1484921138724, 101.69672653590337],\n",
       " [3.1903500000000236, 101.62545000000006],\n",
       " [3.1039100000000417, 101.71226000000007],\n",
       " [3.072750000000042, 101.71461000000005],\n",
       " [3.08280000000002, 101.72281000000004],\n",
       " [3.1292000000000257, 101.67844000000008],\n",
       " [3.1347800000000348, 101.67262000000005],\n",
       " [3.111020000000053, 101.66283000000004],\n",
       " [3.09898000000004, 101.73499000000004],\n",
       " [3.1357600000000616, 101.70837000000006],\n",
       " [3.12916000000007, 101.68406000000004],\n",
       " [3.147770000000037, 101.70855000000006],\n",
       " [3.057800000000043, 101.68965000000009],\n",
       " [3.1434800000000678, 101.64433000000008],\n",
       " [3.152017197420035, 101.70102760046613],\n",
       " [3.129290000000026, 101.69892000000004],\n",
       " [3.17381000000006, 101.68276000000009],\n",
       " [3.061870000000056, 101.74675000000008],\n",
       " [3.163590000000056, 101.69811000000004],\n",
       " [3.147980000000075, 101.66798000000006],\n",
       " [3.1387586696676304, 101.6840455304707],\n",
       " [3.1387586696676304, 101.6840455304707],\n",
       " [3.156685175474611, 101.69807679810161],\n",
       " [3.08331000000004, 101.70438000000007],\n",
       " [3.1363700000000563, 101.68564000000003],\n",
       " [3.201630000000023, 101.72107000000005],\n",
       " [3.132903045551973, 101.72467816744994],\n",
       " [3.180086208350838, 101.67785384135225],\n",
       " [3.209500000000048, 101.65874000000008],\n",
       " [3.165460000000053, 101.71028000000007],\n",
       " [3.166400000000067, 101.73046000000005],\n",
       " [3.2094300000000544, 101.69318000000004],\n",
       " [3.2175000000000296, 101.63763000000006],\n",
       " [3.117140000000063, 101.67388000000005],\n",
       " [3.0907400000000393, 101.67733000000004],\n",
       " [3.1212018655338443, 101.66389906168357],\n",
       " [3.147890000000075, 101.69405000000006],\n",
       " [3.1592600000000743, 101.69834000000009],\n",
       " [3.147890000000075, 101.69405000000006],\n",
       " [3.165320000000065, 101.65243000000004],\n",
       " [3.094760000000065, 101.66747000000004],\n",
       " [3.133540000000039, 101.71307000000007],\n",
       " [3.1258432855470684, 101.71850881971983],\n",
       " [3.0810200000000236, 101.69724000000008],\n",
       " [3.186390000000074, 101.66810000000004],\n",
       " [3.1799164410297633, 101.72143714871991],\n",
       " [3.1874305003813963, 101.69145318264098],\n",
       " [3.188160000000039, 101.70415000000008],\n",
       " [3.191802843003158, 101.74007037312064],\n",
       " [3.124580000000037, 101.73597000000007],\n",
       " [3.162200000000041, 101.65036000000003],\n",
       " [3.0726000000000226, 101.68252000000007],\n",
       " [3.0499700000000303, 101.70603000000006],\n",
       " [3.2006600000000276, 101.63337000000007],\n",
       " [3.0826300000000515, 101.74671000000006],\n",
       " [3.0826900000000705, 101.73689000000007],\n",
       " [3.1029700000000275, 101.68471000000005],\n",
       " [3.21216000000004, 101.71540000000005],\n",
       " [3.069080000000042, 101.74287000000004],\n",
       " [3.223570000000052, 101.72399000000007],\n",
       " [3.093590000000063, 101.72837000000004],\n",
       " [3.2100497379521316, 101.63450794879562],\n",
       " [3.1936000000000604, 101.70598000000007],\n",
       " [3.1900700000000484, 101.65293000000008],\n",
       " [3.0870700000000397, 101.73681000000005],\n",
       " [3.1528300000000513, 101.62271000000004],\n",
       " [3.157700000000034, 101.72452000000004],\n",
       " [3.22240000000005, 101.67173000000008],\n",
       " [3.1806700000000205, 101.70322000000004],\n",
       " [3.2039100000000644, 101.73719000000006]]"
      ]
     },
     "execution_count": 9,
     "metadata": {},
     "output_type": "execute_result"
    }
   ],
   "source": [
    "# define a function to get coordinates\n",
    "def get_latlng(neighborhood):\n",
    "    # initialize your variable to None\n",
    "    lat_lng_coords = None\n",
    "    # loop until you get the coordinates\n",
    "    while(lat_lng_coords is None):\n",
    "        g = geocoder.arcgis('{}, Kuala Lumpur, Malaysia'.format(neighborhood))\n",
    "        lat_lng_coords = g.latlng\n",
    "    return lat_lng_coords\n",
    "\n",
    "# call the function to get the coordinates, store in a new list using list comprehension\n",
    "coordinates = [ get_latlng(neighborhood) for neighborhood in kl_df[\"Neighborhood\"].tolist() ]\n",
    "\n",
    "coordinates"
   ]
  },
  {
   "cell_type": "code",
   "execution_count": 11,
   "metadata": {},
   "outputs": [
    {
     "ename": "NameError",
     "evalue": "name 'coords' is not defined",
     "output_type": "error",
     "traceback": [
      "\u001b[1;31m---------------------------------------------------------------------------\u001b[0m",
      "\u001b[1;31mNameError\u001b[0m                                 Traceback (most recent call last)",
      "\u001b[1;32m<ipython-input-11-9b17dd2dc754>\u001b[0m in \u001b[0;36m<module>\u001b[1;34m\u001b[0m\n\u001b[0;32m      1\u001b[0m \u001b[1;31m# merge the coordinates into the original dataframe\u001b[0m\u001b[1;33m\u001b[0m\u001b[1;33m\u001b[0m\u001b[1;33m\u001b[0m\u001b[0m\n\u001b[1;32m----> 2\u001b[1;33m \u001b[0mdf_coords\u001b[0m \u001b[1;33m=\u001b[0m \u001b[0mpd\u001b[0m\u001b[1;33m.\u001b[0m\u001b[0mDataFrame\u001b[0m\u001b[1;33m(\u001b[0m\u001b[0mcoords\u001b[0m\u001b[1;33m,\u001b[0m \u001b[0mcolumns\u001b[0m\u001b[1;33m=\u001b[0m\u001b[1;33m[\u001b[0m\u001b[1;34m'Latitude'\u001b[0m\u001b[1;33m,\u001b[0m \u001b[1;34m'Longitude'\u001b[0m\u001b[1;33m]\u001b[0m\u001b[1;33m)\u001b[0m\u001b[1;33m\u001b[0m\u001b[1;33m\u001b[0m\u001b[0m\n\u001b[0m\u001b[0;32m      3\u001b[0m \u001b[0mkl_df\u001b[0m\u001b[1;33m[\u001b[0m\u001b[1;34m'Latitude'\u001b[0m\u001b[1;33m]\u001b[0m \u001b[1;33m=\u001b[0m \u001b[0mdf_coords\u001b[0m\u001b[1;33m[\u001b[0m\u001b[1;34m'Latitude'\u001b[0m\u001b[1;33m]\u001b[0m\u001b[1;33m\u001b[0m\u001b[1;33m\u001b[0m\u001b[0m\n\u001b[0;32m      4\u001b[0m \u001b[0mkl_df\u001b[0m\u001b[1;33m[\u001b[0m\u001b[1;34m'Longitude'\u001b[0m\u001b[1;33m]\u001b[0m \u001b[1;33m=\u001b[0m \u001b[0mdf_coords\u001b[0m\u001b[1;33m[\u001b[0m\u001b[1;34m'Longitude'\u001b[0m\u001b[1;33m]\u001b[0m\u001b[1;33m\u001b[0m\u001b[1;33m\u001b[0m\u001b[0m\n\u001b[0;32m      5\u001b[0m \u001b[1;31m# check the neighborhoods and the coordinates\u001b[0m\u001b[1;33m\u001b[0m\u001b[1;33m\u001b[0m\u001b[1;33m\u001b[0m\u001b[0m\n",
      "\u001b[1;31mNameError\u001b[0m: name 'coords' is not defined"
     ]
    }
   ],
   "source": [
    "# merge the coordinates into the original dataframe\n",
    "df_coordinates = pd.DataFrame(coordinates, columns=['Latitude', 'Longitude'])\n",
    "kl_df['Latitude'] = df_coordinates['Latitude']\n",
    "kl_df['Longitude'] = df_coordinates['Longitude']\n",
    "# check the neighborhoods and the coordinates\n",
    "print(kl_df.shape)\n",
    "kl_df"
   ]
  },
  {
   "cell_type": "code",
   "execution_count": null,
   "metadata": {},
   "outputs": [],
   "source": []
  }
 ],
 "metadata": {
  "kernelspec": {
   "display_name": "Python 3",
   "language": "python",
   "name": "python3"
  },
  "language_info": {
   "codemirror_mode": {
    "name": "ipython",
    "version": 3
   },
   "file_extension": ".py",
   "mimetype": "text/x-python",
   "name": "python",
   "nbconvert_exporter": "python",
   "pygments_lexer": "ipython3",
   "version": "3.7.3"
  }
 },
 "nbformat": 4,
 "nbformat_minor": 2
}
